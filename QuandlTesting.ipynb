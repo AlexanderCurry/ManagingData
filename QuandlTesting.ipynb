{
 "cells": [
  {
   "cell_type": "code",
   "execution_count": 1,
   "metadata": {},
   "outputs": [],
   "source": [
    "import pandas as pd\n",
    "import numpy as np\n",
    "import matplotlib.pyplot as plt\n",
    "import quandl\n",
    "import yfinance as yf\n",
    "import seaborn as sns\n",
    "import os\n",
    "plt.style.use(\"seaborn\")"
   ]
  },
  {
   "cell_type": "code",
   "execution_count": 2,
   "metadata": {},
   "outputs": [],
   "source": [
    "quandl.ApiConfig.api_key = os.environ.get('QUANDL_PASS')"
   ]
  },
  {
   "cell_type": "code",
   "execution_count": 3,
   "metadata": {
    "scrolled": false
   },
   "outputs": [],
   "source": [
    "df1 = quandl.get_table('SHARADAR/SF1',  calendardate={'gte': '2015-01-01'} ,\n",
    "                       qopts={'columns':[\"Ticker\", \"assets\", \"currentratio\", \"de\", \"debt\"]},\n",
    "                        dimension = \"MRY\" ,ticker = ['BB', 'GME'])"
   ]
  },
  {
   "cell_type": "code",
   "execution_count": 4,
   "metadata": {},
   "outputs": [],
   "source": [
    "#How to use a date range with quandl critrea \n",
    "df2 = quandl.get_table('SHARADAR/DAILY',date = {'gte': '2016-01-01', 'lte': '2021-01-19'}, \n",
    "                       ticker = ['BB', 'GME'])"
   ]
  },
  {
   "cell_type": "code",
   "execution_count": 5,
   "metadata": {},
   "outputs": [
    {
     "data": {
      "text/html": [
       "<div>\n",
       "<style scoped>\n",
       "    .dataframe tbody tr th:only-of-type {\n",
       "        vertical-align: middle;\n",
       "    }\n",
       "\n",
       "    .dataframe tbody tr th {\n",
       "        vertical-align: top;\n",
       "    }\n",
       "\n",
       "    .dataframe thead th {\n",
       "        text-align: right;\n",
       "    }\n",
       "</style>\n",
       "<table border=\"1\" class=\"dataframe\">\n",
       "  <thead>\n",
       "    <tr style=\"text-align: right;\">\n",
       "      <th></th>\n",
       "      <th>ticker</th>\n",
       "      <th>date</th>\n",
       "      <th>lastupdated</th>\n",
       "      <th>ev</th>\n",
       "      <th>evebit</th>\n",
       "      <th>evebitda</th>\n",
       "      <th>marketcap</th>\n",
       "      <th>pb</th>\n",
       "      <th>pe</th>\n",
       "      <th>ps</th>\n",
       "    </tr>\n",
       "    <tr>\n",
       "      <th>None</th>\n",
       "      <th></th>\n",
       "      <th></th>\n",
       "      <th></th>\n",
       "      <th></th>\n",
       "      <th></th>\n",
       "      <th></th>\n",
       "      <th></th>\n",
       "      <th></th>\n",
       "      <th></th>\n",
       "      <th></th>\n",
       "    </tr>\n",
       "  </thead>\n",
       "  <tbody>\n",
       "    <tr>\n",
       "      <th>0</th>\n",
       "      <td>GME</td>\n",
       "      <td>2021-01-19</td>\n",
       "      <td>2021-01-19</td>\n",
       "      <td>3313.7</td>\n",
       "      <td>-18.1</td>\n",
       "      <td>-34.5</td>\n",
       "      <td>2745.2</td>\n",
       "      <td>8.3</td>\n",
       "      <td>-10.0</td>\n",
       "      <td>0.5</td>\n",
       "    </tr>\n",
       "    <tr>\n",
       "      <th>1</th>\n",
       "      <td>GME</td>\n",
       "      <td>2021-01-15</td>\n",
       "      <td>2021-01-15</td>\n",
       "      <td>3044.5</td>\n",
       "      <td>-16.6</td>\n",
       "      <td>-31.7</td>\n",
       "      <td>2476.0</td>\n",
       "      <td>7.5</td>\n",
       "      <td>-9.0</td>\n",
       "      <td>0.5</td>\n",
       "    </tr>\n",
       "    <tr>\n",
       "      <th>2</th>\n",
       "      <td>GME</td>\n",
       "      <td>2021-01-14</td>\n",
       "      <td>2021-01-14</td>\n",
       "      <td>3352.1</td>\n",
       "      <td>-18.3</td>\n",
       "      <td>-34.9</td>\n",
       "      <td>2783.6</td>\n",
       "      <td>8.4</td>\n",
       "      <td>-10.1</td>\n",
       "      <td>0.5</td>\n",
       "    </tr>\n",
       "    <tr>\n",
       "      <th>3</th>\n",
       "      <td>GME</td>\n",
       "      <td>2021-01-13</td>\n",
       "      <td>2021-01-13</td>\n",
       "      <td>2758.6</td>\n",
       "      <td>-15.1</td>\n",
       "      <td>-28.7</td>\n",
       "      <td>2190.1</td>\n",
       "      <td>6.6</td>\n",
       "      <td>-8.0</td>\n",
       "      <td>0.4</td>\n",
       "    </tr>\n",
       "    <tr>\n",
       "      <th>4</th>\n",
       "      <td>GME</td>\n",
       "      <td>2021-01-12</td>\n",
       "      <td>2021-01-12</td>\n",
       "      <td>1960.0</td>\n",
       "      <td>-10.7</td>\n",
       "      <td>-20.4</td>\n",
       "      <td>1391.5</td>\n",
       "      <td>4.2</td>\n",
       "      <td>-5.1</td>\n",
       "      <td>0.3</td>\n",
       "    </tr>\n",
       "    <tr>\n",
       "      <th>...</th>\n",
       "      <td>...</td>\n",
       "      <td>...</td>\n",
       "      <td>...</td>\n",
       "      <td>...</td>\n",
       "      <td>...</td>\n",
       "      <td>...</td>\n",
       "      <td>...</td>\n",
       "      <td>...</td>\n",
       "      <td>...</td>\n",
       "      <td>...</td>\n",
       "    </tr>\n",
       "    <tr>\n",
       "      <th>2535</th>\n",
       "      <td>BB</td>\n",
       "      <td>2016-01-08</td>\n",
       "      <td>2020-02-10</td>\n",
       "      <td>4213.1</td>\n",
       "      <td>-156.0</td>\n",
       "      <td>6.8</td>\n",
       "      <td>4077.1</td>\n",
       "      <td>1.2</td>\n",
       "      <td>70.3</td>\n",
       "      <td>1.7</td>\n",
       "    </tr>\n",
       "    <tr>\n",
       "      <th>2536</th>\n",
       "      <td>BB</td>\n",
       "      <td>2016-01-07</td>\n",
       "      <td>2020-02-10</td>\n",
       "      <td>4366.4</td>\n",
       "      <td>-161.7</td>\n",
       "      <td>7.0</td>\n",
       "      <td>4230.4</td>\n",
       "      <td>1.2</td>\n",
       "      <td>72.9</td>\n",
       "      <td>1.8</td>\n",
       "    </tr>\n",
       "    <tr>\n",
       "      <th>2537</th>\n",
       "      <td>BB</td>\n",
       "      <td>2016-01-06</td>\n",
       "      <td>2020-02-10</td>\n",
       "      <td>4757.7</td>\n",
       "      <td>-176.2</td>\n",
       "      <td>7.6</td>\n",
       "      <td>4621.7</td>\n",
       "      <td>1.3</td>\n",
       "      <td>79.7</td>\n",
       "      <td>2.0</td>\n",
       "    </tr>\n",
       "    <tr>\n",
       "      <th>2538</th>\n",
       "      <td>BB</td>\n",
       "      <td>2016-01-05</td>\n",
       "      <td>2020-02-10</td>\n",
       "      <td>4821.2</td>\n",
       "      <td>-178.6</td>\n",
       "      <td>7.7</td>\n",
       "      <td>4685.2</td>\n",
       "      <td>1.4</td>\n",
       "      <td>80.8</td>\n",
       "      <td>2.0</td>\n",
       "    </tr>\n",
       "    <tr>\n",
       "      <th>2539</th>\n",
       "      <td>BB</td>\n",
       "      <td>2016-01-04</td>\n",
       "      <td>2020-02-10</td>\n",
       "      <td>4966.6</td>\n",
       "      <td>-183.9</td>\n",
       "      <td>8.0</td>\n",
       "      <td>4830.6</td>\n",
       "      <td>1.4</td>\n",
       "      <td>83.3</td>\n",
       "      <td>2.1</td>\n",
       "    </tr>\n",
       "  </tbody>\n",
       "</table>\n",
       "<p>2540 rows × 10 columns</p>\n",
       "</div>"
      ],
      "text/plain": [
       "     ticker       date lastupdated      ev  evebit  evebitda  marketcap   pb  \\\n",
       "None                                                                           \n",
       "0       GME 2021-01-19  2021-01-19  3313.7   -18.1     -34.5     2745.2  8.3   \n",
       "1       GME 2021-01-15  2021-01-15  3044.5   -16.6     -31.7     2476.0  7.5   \n",
       "2       GME 2021-01-14  2021-01-14  3352.1   -18.3     -34.9     2783.6  8.4   \n",
       "3       GME 2021-01-13  2021-01-13  2758.6   -15.1     -28.7     2190.1  6.6   \n",
       "4       GME 2021-01-12  2021-01-12  1960.0   -10.7     -20.4     1391.5  4.2   \n",
       "...     ...        ...         ...     ...     ...       ...        ...  ...   \n",
       "2535     BB 2016-01-08  2020-02-10  4213.1  -156.0       6.8     4077.1  1.2   \n",
       "2536     BB 2016-01-07  2020-02-10  4366.4  -161.7       7.0     4230.4  1.2   \n",
       "2537     BB 2016-01-06  2020-02-10  4757.7  -176.2       7.6     4621.7  1.3   \n",
       "2538     BB 2016-01-05  2020-02-10  4821.2  -178.6       7.7     4685.2  1.4   \n",
       "2539     BB 2016-01-04  2020-02-10  4966.6  -183.9       8.0     4830.6  1.4   \n",
       "\n",
       "        pe   ps  \n",
       "None             \n",
       "0    -10.0  0.5  \n",
       "1     -9.0  0.5  \n",
       "2    -10.1  0.5  \n",
       "3     -8.0  0.4  \n",
       "4     -5.1  0.3  \n",
       "...    ...  ...  \n",
       "2535  70.3  1.7  \n",
       "2536  72.9  1.8  \n",
       "2537  79.7  2.0  \n",
       "2538  80.8  2.0  \n",
       "2539  83.3  2.1  \n",
       "\n",
       "[2540 rows x 10 columns]"
      ]
     },
     "execution_count": 5,
     "metadata": {},
     "output_type": "execute_result"
    }
   ],
   "source": [
    "#df2 is hard to incorporate in my data\n",
    "df2"
   ]
  },
  {
   "cell_type": "code",
   "execution_count": 6,
   "metadata": {},
   "outputs": [
    {
     "data": {
      "text/html": [
       "<div>\n",
       "<style scoped>\n",
       "    .dataframe tbody tr th:only-of-type {\n",
       "        vertical-align: middle;\n",
       "    }\n",
       "\n",
       "    .dataframe tbody tr th {\n",
       "        vertical-align: top;\n",
       "    }\n",
       "\n",
       "    .dataframe thead th {\n",
       "        text-align: right;\n",
       "    }\n",
       "</style>\n",
       "<table border=\"1\" class=\"dataframe\">\n",
       "  <thead>\n",
       "    <tr style=\"text-align: right;\">\n",
       "      <th></th>\n",
       "      <th>ticker</th>\n",
       "      <th>assets</th>\n",
       "      <th>currentratio</th>\n",
       "      <th>de</th>\n",
       "      <th>debt</th>\n",
       "    </tr>\n",
       "    <tr>\n",
       "      <th>None</th>\n",
       "      <th></th>\n",
       "      <th></th>\n",
       "      <th></th>\n",
       "      <th></th>\n",
       "      <th></th>\n",
       "    </tr>\n",
       "  </thead>\n",
       "  <tbody>\n",
       "    <tr>\n",
       "      <th>0</th>\n",
       "      <td>GME</td>\n",
       "      <td>2819700000</td>\n",
       "      <td>1.320</td>\n",
       "      <td>3.611</td>\n",
       "      <td>1188500000</td>\n",
       "    </tr>\n",
       "    <tr>\n",
       "      <th>1</th>\n",
       "      <td>GME</td>\n",
       "      <td>4044300000</td>\n",
       "      <td>1.434</td>\n",
       "      <td>2.027</td>\n",
       "      <td>820800000</td>\n",
       "    </tr>\n",
       "    <tr>\n",
       "      <th>2</th>\n",
       "      <td>GME</td>\n",
       "      <td>5041600000</td>\n",
       "      <td>1.563</td>\n",
       "      <td>1.277</td>\n",
       "      <td>817900000</td>\n",
       "    </tr>\n",
       "    <tr>\n",
       "      <th>3</th>\n",
       "      <td>GME</td>\n",
       "      <td>4975900000</td>\n",
       "      <td>1.215</td>\n",
       "      <td>1.207</td>\n",
       "      <td>815000000</td>\n",
       "    </tr>\n",
       "    <tr>\n",
       "      <th>4</th>\n",
       "      <td>GME</td>\n",
       "      <td>4330300000</td>\n",
       "      <td>1.080</td>\n",
       "      <td>1.081</td>\n",
       "      <td>345400000</td>\n",
       "    </tr>\n",
       "    <tr>\n",
       "      <th>5</th>\n",
       "      <td>BB</td>\n",
       "      <td>3888000000</td>\n",
       "      <td>1.067</td>\n",
       "      <td>0.537</td>\n",
       "      <td>726000000</td>\n",
       "    </tr>\n",
       "    <tr>\n",
       "      <th>6</th>\n",
       "      <td>BB</td>\n",
       "      <td>3968000000</td>\n",
       "      <td>2.418</td>\n",
       "      <td>0.505</td>\n",
       "      <td>665000000</td>\n",
       "    </tr>\n",
       "    <tr>\n",
       "      <th>7</th>\n",
       "      <td>BB</td>\n",
       "      <td>3780000000</td>\n",
       "      <td>6.192</td>\n",
       "      <td>0.509</td>\n",
       "      <td>782000000</td>\n",
       "    </tr>\n",
       "    <tr>\n",
       "      <th>8</th>\n",
       "      <td>BB</td>\n",
       "      <td>3296000000</td>\n",
       "      <td>2.765</td>\n",
       "      <td>0.602</td>\n",
       "      <td>591000000</td>\n",
       "    </tr>\n",
       "    <tr>\n",
       "      <th>9</th>\n",
       "      <td>BB</td>\n",
       "      <td>5534000000</td>\n",
       "      <td>2.898</td>\n",
       "      <td>0.725</td>\n",
       "      <td>1277000000</td>\n",
       "    </tr>\n",
       "    <tr>\n",
       "      <th>10</th>\n",
       "      <td>BB</td>\n",
       "      <td>6558000000</td>\n",
       "      <td>3.037</td>\n",
       "      <td>0.911</td>\n",
       "      <td>1707000000</td>\n",
       "    </tr>\n",
       "  </tbody>\n",
       "</table>\n",
       "</div>"
      ],
      "text/plain": [
       "     ticker      assets  currentratio     de        debt\n",
       "None                                                    \n",
       "0       GME  2819700000         1.320  3.611  1188500000\n",
       "1       GME  4044300000         1.434  2.027   820800000\n",
       "2       GME  5041600000         1.563  1.277   817900000\n",
       "3       GME  4975900000         1.215  1.207   815000000\n",
       "4       GME  4330300000         1.080  1.081   345400000\n",
       "5        BB  3888000000         1.067  0.537   726000000\n",
       "6        BB  3968000000         2.418  0.505   665000000\n",
       "7        BB  3780000000         6.192  0.509   782000000\n",
       "8        BB  3296000000         2.765  0.602   591000000\n",
       "9        BB  5534000000         2.898  0.725  1277000000\n",
       "10       BB  6558000000         3.037  0.911  1707000000"
      ]
     },
     "execution_count": 6,
     "metadata": {},
     "output_type": "execute_result"
    }
   ],
   "source": [
    "df1"
   ]
  },
  {
   "cell_type": "code",
   "execution_count": null,
   "metadata": {},
   "outputs": [],
   "source": [
    "df2.drop(columns=['lastupdated'])"
   ]
  },
  {
   "cell_type": "code",
   "execution_count": null,
   "metadata": {},
   "outputs": [],
   "source": [
    "# apply pct_change to 'ev'\n",
    "df2.ev = df2.ev.pct_change(periods = 1)\n",
    "df2"
   ]
  },
  {
   "cell_type": "code",
   "execution_count": null,
   "metadata": {},
   "outputs": [],
   "source": [
    "# Attempt to find the rolling mean of a dataset.\n",
    "head = [\"ev\", \"evebit\", \"evebitda\", \"marketcap\", \"pb\", \"pe\", \"ps\"]\n",
    "\n",
    "df2[head] = df2[head].pct_change(periods = 1)\n",
    "df2.tail(25)"
   ]
  },
  {
   "cell_type": "code",
   "execution_count": null,
   "metadata": {},
   "outputs": [],
   "source": [
    "# Change it for the columns u want.\n",
    "df2.plot(figsize = (15, 8), fontsize = 13, subplots=True)\n",
    "plt.legend(fontsize = 13)\n",
    "plt.show"
   ]
  },
  {
   "cell_type": "code",
   "execution_count": null,
   "metadata": {},
   "outputs": [],
   "source": [
    "tickers = [\"GME\", \"BB\"]\n",
    "\n",
    "pf_data = yf.download(tickers, start = \"2010-01-01\", end = \"2021-01-19\")\n",
    "pf_data.tail()"
   ]
  },
  {
   "cell_type": "code",
   "execution_count": null,
   "metadata": {},
   "outputs": [],
   "source": [
    "pf_data = pf_data.loc[:,\"Adj Close\"].copy()\n",
    "pf_data"
   ]
  },
  {
   "cell_type": "code",
   "execution_count": null,
   "metadata": {},
   "outputs": [],
   "source": [
    "# Obtaining the sectors \n",
    "Sectors = quandl.get_table('SHARADAR/TICKERS',paginate=True)"
   ]
  },
  {
   "cell_type": "code",
   "execution_count": null,
   "metadata": {},
   "outputs": [],
   "source": [
    "Sectors"
   ]
  },
  {
   "cell_type": "code",
   "execution_count": null,
   "metadata": {},
   "outputs": [],
   "source": [
    "Sectors.drop(columns=[\"exchange\", \"category\",\"table\", \"permaticker\", \"name\", \"isdelisted\", \"cusips\", \"siccode\", \n",
    "                      \"famasector\", \"relatedtickers\", \"currency\", \"location\", \"firstadded\", \n",
    "                      \"firstpricedate\", \"firstquarter\", \"lastquarter\", \"secfilings\", \"companysite\"])"
   ]
  },
  {
   "cell_type": "code",
   "execution_count": null,
   "metadata": {},
   "outputs": [],
   "source": [
    "# This is the final filter to use for filtering for sector, probs a more efficent way to do it oh well. \n",
    "Sectors2 = Sectors[['ticker', 'sector', 'industry', 'scalemarketcap', 'scalerevenue']]\n",
    "Sectors2"
   ]
  },
  {
   "cell_type": "code",
   "execution_count": null,
   "metadata": {},
   "outputs": [],
   "source": [
    "# This is filtered to find Healthcare \n",
    "HCareDF = Sectors2.loc[Sectors2['sector'] == 'Healthcare']\n",
    "HCareDF"
   ]
  },
  {
   "cell_type": "code",
   "execution_count": null,
   "metadata": {},
   "outputs": [],
   "source": [
    "BasicMatDF = Sectors2.loc[Sectors2['sector'] == 'Basic Materials']\n",
    "BasicMatDF"
   ]
  },
  {
   "cell_type": "code",
   "execution_count": null,
   "metadata": {},
   "outputs": [],
   "source": [
    "FinSerDF = Sectors2.loc[Sectors2['sector'] == 'Financial Services']\n",
    "FinSerDF"
   ]
  },
  {
   "cell_type": "code",
   "execution_count": null,
   "metadata": {},
   "outputs": [],
   "source": [
    "ConCycDF = Sectors2.loc[Sectors2['sector'] == 'Consumer Cyclical']\n",
    "ConCycDF"
   ]
  },
  {
   "cell_type": "code",
   "execution_count": null,
   "metadata": {},
   "outputs": [],
   "source": [
    "TechDF = Sectors2.loc[Sectors2['sector'] == 'Technology']\n",
    "TechDF"
   ]
  },
  {
   "cell_type": "code",
   "execution_count": null,
   "metadata": {},
   "outputs": [],
   "source": [
    "ComDefDF = Sectors2.loc[Sectors2['sector'] == 'Consumer Defensive']\n",
    "ComDefDF"
   ]
  },
  {
   "cell_type": "code",
   "execution_count": null,
   "metadata": {},
   "outputs": [],
   "source": [
    "IndustDF = Sectors2.loc[Sectors2['sector'] == 'Industrials']\n",
    "IndustDF"
   ]
  },
  {
   "cell_type": "code",
   "execution_count": null,
   "metadata": {},
   "outputs": [],
   "source": [
    "RealEstDF = Sectors2.loc[Sectors2['sector'] == 'Real Estate']\n",
    "RealEstDF"
   ]
  },
  {
   "cell_type": "code",
   "execution_count": null,
   "metadata": {},
   "outputs": [],
   "source": [
    "EnergyDF = Sectors2.loc[Sectors2['sector'] == 'Energy']\n",
    "EnergyDF"
   ]
  },
  {
   "cell_type": "code",
   "execution_count": null,
   "metadata": {},
   "outputs": [],
   "source": [
    "UtilitiesDF = Sectors2.loc[Sectors2['sector'] == 'Utilities']\n",
    "UtilitiesDF"
   ]
  },
  {
   "cell_type": "code",
   "execution_count": null,
   "metadata": {
    "scrolled": true
   },
   "outputs": [],
   "source": [
    "DataFrameList = [UtilitiesDF, EnergyDF, RealEstDF, IndustDF, ComDefDF, TechDF, ConCycDF,FinSerDF, BasicMatDF, HCareDF]\n",
    "DataFrameList"
   ]
  },
  {
   "cell_type": "code",
   "execution_count": null,
   "metadata": {},
   "outputs": [],
   "source": [
    "#df3 = quandl.get_table('SHARADAR/DAILY', date = { 'gte': '2020-01-01', 'lte': '2021-12-31' },\n",
    "                     # qopts={\"columns\":[\"ticker\",\"ev\", \"evebit\", \"evebit\", \"pb\", \"pe\", \"ps\"]},paginate=True)\n",
    "#df3\n",
    "#{ 'gte': '2016-01-01', 'lte': '2021-12-31' }"
   ]
  },
  {
   "cell_type": "code",
   "execution_count": null,
   "metadata": {},
   "outputs": [],
   "source": [
    "df4 = quandl.get_table('SHARADAR/SF1',dimension = \"MRY\" ,\n",
    "                       qopts={\"columns\":[\"ticker\",\"reportperiod\",\"equityavg\", \"assetsavg\",\n",
    "                                         \"assets\",\"investmentsnc\", \"inventory\", \n",
    "                                         \"liabilitiesc\", \"assetsc\", \"bvps\", \"ev\",\"debt\",                                         \n",
    "                                         \"ebitda\", \"evebitda\", \"eps\",\"gp\", \"grossmargin\",\n",
    "                                        \"liabilities\", \"revenue\", \"workingcapital\", \"cashneq\",\"equity\", \n",
    "                                         \"currentratio\", \"de\", \"pb\", \"pe\", \"ps\",]}, paginate=True)\n",
    "df4"
   ]
  },
  {
   "cell_type": "code",
   "execution_count": null,
   "metadata": {},
   "outputs": [],
   "source": [
    "#Liquidity Ratios\n",
    "df4['QuickRatio'] = df4.apply(lambda row: (row.assetsc - row.inventory), axis=1)"
   ]
  },
  {
   "cell_type": "code",
   "execution_count": null,
   "metadata": {},
   "outputs": [],
   "source": [
    "df4['QuickRatio'] = df4['QuickRatio']/df4['liabilitiesc']\n",
    "df4"
   ]
  },
  {
   "cell_type": "code",
   "execution_count": null,
   "metadata": {},
   "outputs": [],
   "source": [
    "df4['CashRatio'] = df4.apply(lambda row: (row.cashneq + row.investmentsnc), axis=1)"
   ]
  },
  {
   "cell_type": "code",
   "execution_count": null,
   "metadata": {},
   "outputs": [],
   "source": [
    "df4['CashRatio'] = df4['CashRatio']/df4['liabilitiesc']\n",
    "df4"
   ]
  },
  {
   "cell_type": "code",
   "execution_count": null,
   "metadata": {},
   "outputs": [],
   "source": [
    "df4['da'] = df4['debt']/df4['assets']\n",
    "df4"
   ]
  },
  {
   "cell_type": "code",
   "execution_count": null,
   "metadata": {},
   "outputs": [],
   "source": [
    "df4['FinLev'] = df4['assetsavg']/df4['equityavg']\n",
    "df4"
   ]
  },
  {
   "cell_type": "code",
   "execution_count": null,
   "metadata": {},
   "outputs": [],
   "source": [
    "df4['dc'] = df4.apply(lambda row: (row.debt + row.equity), axis=1)"
   ]
  },
  {
   "cell_type": "code",
   "execution_count": null,
   "metadata": {},
   "outputs": [],
   "source": [
    "df4['dc'] = df4['debt']/df4['dc']\n",
    "df4"
   ]
  },
  {
   "cell_type": "code",
   "execution_count": null,
   "metadata": {},
   "outputs": [],
   "source": [
    "df4['debtToEDITDA'] = df4['debt']/df4['ebitda']\n",
    "df4"
   ]
  },
  {
   "cell_type": "code",
   "execution_count": null,
   "metadata": {},
   "outputs": [],
   "source": [
    "df4['ae'] = df4['assets']/df4['equity']\n",
    "df4"
   ]
  },
  {
   "cell_type": "code",
   "execution_count": null,
   "metadata": {},
   "outputs": [],
   "source": [
    "SolvRatio = df4[[\"de\", \"da\", \"FinLev\", \"debtToEDITDA\", \"ae\"]]\n",
    "SolvRatio"
   ]
  },
  {
   "cell_type": "code",
   "execution_count": null,
   "metadata": {},
   "outputs": [],
   "source": [
    "LiqRatio = df4[[\"currentratio\", \"QuickRatio\", \"CashRatio\"]]\n",
    "LiqRatio"
   ]
  },
  {
   "cell_type": "code",
   "execution_count": null,
   "metadata": {},
   "outputs": [],
   "source": [
    "Ratios = pd.concat([LiqRatio, SolvRatio], axis=1)\n",
    "Ratios"
   ]
  },
  {
   "cell_type": "code",
   "execution_count": null,
   "metadata": {},
   "outputs": [],
   "source": [
    "#Adding the original sector df to ratios df \n",
    "New = pd.concat([df4, Ratios], axis=1).dropna()\n",
    "New"
   ]
  },
  {
   "cell_type": "code",
   "execution_count": null,
   "metadata": {},
   "outputs": [],
   "source": [
    "import os"
   ]
  },
  {
   "cell_type": "code",
   "execution_count": null,
   "metadata": {},
   "outputs": [],
   "source": [
    "\n",
    "#for item in DataFrameList:\n",
    " #   result1 = pd.concat([item, df4], axis=1).dropna()\n",
    "  #  result1.set_index('ticker', inplace=True)\n",
    "   # item = result1\n",
    "#print([data for data in DataFrameList])"
   ]
  },
  {
   "cell_type": "code",
   "execution_count": null,
   "metadata": {},
   "outputs": [],
   "source": [
    "#The master final dataframe. \n",
    "UtilitiesDF2 = pd.merge(UtilitiesDF, New, on=[\"ticker\"], how=\"outer\").dropna()\n",
    "UtilitiesDF2 = UtilitiesDF2.loc[:,~UtilitiesDF2.columns.duplicated()]\n",
    "UtilitiesDF2 = UtilitiesDF2.drop_duplicates()\n",
    "UtilitiesDF2.set_index('ticker', inplace=True)\n",
    "UtilitiesDF2"
   ]
  },
  {
   "cell_type": "code",
   "execution_count": null,
   "metadata": {},
   "outputs": [],
   "source": [
    "UtilitiesDF2.to_excel(\"UtilitiesDF.xlsx\",\n",
    "             sheet_name='UtilitiesDF') "
   ]
  },
  {
   "cell_type": "code",
   "execution_count": null,
   "metadata": {},
   "outputs": [],
   "source": [
    "EnergyDF2 = pd.merge(EnergyDF, New, on=[\"ticker\"], how=\"outer\").dropna()\n",
    "EnergyDF2.drop_duplicates(subset=\"assets\", keep='first')\n",
    "EnergyDF2 = EnergyDF2.loc[:,~EnergyDF2.columns.duplicated()]\n",
    "EnergyDF2 = EnergyDF2.drop_duplicates()\n",
    "EnergyDF2.set_index('ticker', inplace=True)\n",
    "EnergyDF2.loc['Mean'] = EnergyDF2.mean(numeric_only=True)\n",
    "EnergyDF2"
   ]
  },
  {
   "cell_type": "code",
   "execution_count": null,
   "metadata": {},
   "outputs": [],
   "source": [
    "EnergyDF2.to_excel(\"EnergyDF.xlsx\",\n",
    "             sheet_name='EnergyDF') "
   ]
  },
  {
   "cell_type": "code",
   "execution_count": null,
   "metadata": {},
   "outputs": [],
   "source": [
    "RealEstDF2 = pd.merge(RealEstDF, New, on=[\"ticker\"], how=\"outer\").dropna()\n",
    "RealEstDF2.drop_duplicates(subset=\"assets\", keep='first')\n",
    "RealEstDF2 = RealEstDF2.loc[:,~RealEstDF2.columns.duplicated()]\n",
    "RealEstDF2 = RealEstDF2.drop_duplicates()\n",
    "RealEstDF2.set_index('ticker', inplace=True)\n",
    "RealEstDF2.loc['Mean'] = RealEstDF2.mean(numeric_only=True)\n",
    "RealEstDF2"
   ]
  },
  {
   "cell_type": "code",
   "execution_count": null,
   "metadata": {},
   "outputs": [],
   "source": [
    "RealEstDF2.to_excel(\"RealEstDF.xlsx\",\n",
    "             sheet_name='RealEstDF') "
   ]
  },
  {
   "cell_type": "code",
   "execution_count": null,
   "metadata": {},
   "outputs": [],
   "source": [
    "IndustDF2 = pd.merge(IndustDF, New, on=[\"ticker\"], how=\"outer\").dropna()\n",
    "IndustDF2.drop_duplicates(subset=\"assets\", keep='first')\n",
    "IndustDF2 = IndustDF2.loc[:,~IndustDF2.columns.duplicated()]\n",
    "IndustDF2 = IndustDF2.drop_duplicates()\n",
    "IndustDF2.set_index('ticker', inplace=True)\n",
    "IndustDF2.loc['Mean'] = IndustDF2.mean(numeric_only=True)\n",
    "IndustDF2"
   ]
  },
  {
   "cell_type": "code",
   "execution_count": null,
   "metadata": {},
   "outputs": [],
   "source": [
    "IndustDF2.to_excel(\"IndustDF.xlsx\",\n",
    "             sheet_name='IndustDF') "
   ]
  },
  {
   "cell_type": "code",
   "execution_count": null,
   "metadata": {},
   "outputs": [],
   "source": [
    "ComDefDF2 = pd.merge(ComDefDF, New, on=[\"ticker\"], how=\"outer\").dropna()\n",
    "ComDefDF2.drop_duplicates(subset=\"assets\", keep='first')\n",
    "ComDefDF2 = ComDefDF2.loc[:,~ComDefDF2.columns.duplicated()]\n",
    "ComDefDF2 = ComDefDF2.drop_duplicates()\n",
    "ComDefDF2.set_index('ticker', inplace=True)\n",
    "ComDefDF2.loc['Mean'] = ComDefDF2.mean(numeric_only=True)\n",
    "ComDefDF2"
   ]
  },
  {
   "cell_type": "code",
   "execution_count": null,
   "metadata": {},
   "outputs": [],
   "source": [
    "ComDefDF2.to_excel(\"ComDefDF.xlsx\",\n",
    "             sheet_name='ComDefDF') "
   ]
  },
  {
   "cell_type": "code",
   "execution_count": null,
   "metadata": {},
   "outputs": [],
   "source": [
    "TechDF2 = pd.merge(TechDF, New, on=[\"ticker\"], how=\"outer\").dropna()\n",
    "TechDF2.drop_duplicates(subset=\"assets\", keep='first')\n",
    "TechDF2 = TechDF2.loc[:,~TechDF2.columns.duplicated()]\n",
    "TechDF2 = TechDF2.drop_duplicates()\n",
    "TechDF2.set_index('ticker', inplace=True)\n",
    "TechDF2.loc['Mean'] = TechDF2.mean(numeric_only=True)\n",
    "TechDF2"
   ]
  },
  {
   "cell_type": "code",
   "execution_count": null,
   "metadata": {},
   "outputs": [],
   "source": [
    "TechDF2.to_excel(\"TechDF.xlsx\",\n",
    "             sheet_name='TechDF') "
   ]
  },
  {
   "cell_type": "code",
   "execution_count": null,
   "metadata": {},
   "outputs": [],
   "source": [
    "ConCycDF2 = pd.merge(ConCycDF, New, on=[\"ticker\"], how=\"outer\").dropna()\n",
    "ConCycDF2.drop_duplicates(subset=\"assets\", keep='first')\n",
    "ConCycDF2 = ConCycDF2.loc[:,~ConCycDF2.columns.duplicated()]\n",
    "ConCycDF2 = ConCycDF2.drop_duplicates()\n",
    "ConCycDF2.set_index('ticker', inplace=True)\n",
    "ConCycDF2.loc['Mean'] = ConCycDF2.mean(numeric_only=True)\n",
    "ConCycDF2"
   ]
  },
  {
   "cell_type": "code",
   "execution_count": null,
   "metadata": {},
   "outputs": [],
   "source": [
    "ConCycDF2.to_excel(\"ConCycDF.xlsx\",\n",
    "             sheet_name='ConCycDF') "
   ]
  },
  {
   "cell_type": "code",
   "execution_count": null,
   "metadata": {},
   "outputs": [],
   "source": [
    "FinSerDF2 = pd.merge(FinSerDF, New, on=[\"ticker\"], how=\"outer\").dropna()\n",
    "FinSerDF2.drop_duplicates(subset=\"assets\", keep='first')\n",
    "FinSerDF2 = FinSerDF2.loc[:,~FinSerDF2.columns.duplicated()]\n",
    "FinSerDF2 = FinSerDF2.drop_duplicates()\n",
    "FinSerDF2.set_index('ticker', inplace=True)\n",
    "FinSerDF2.loc['Mean'] = FinSerDF2.mean(numeric_only=True)\n",
    "FinSerDF2"
   ]
  },
  {
   "cell_type": "code",
   "execution_count": null,
   "metadata": {},
   "outputs": [],
   "source": [
    "FinSerDF2.to_excel(\"FinSerDF.xlsx\",\n",
    "             sheet_name='FinSerDF') "
   ]
  },
  {
   "cell_type": "code",
   "execution_count": null,
   "metadata": {},
   "outputs": [],
   "source": [
    "BasicMatDF2 = pd.merge(BasicMatDF, New, on=[\"ticker\"], how=\"outer\").dropna()\n",
    "BasicMatDF2.drop_duplicates(subset=\"assets\", keep='first')\n",
    "BasicMatDF2 = BasicMatDF2.loc[:,~BasicMatDF2.columns.duplicated()]\n",
    "BasicMatDF2 = BasicMatDF2.drop_duplicates()\n",
    "BasicMatDF2.set_index('ticker', inplace=True)\n",
    "BasicMatDF2.loc['Mean'] = BasicMatDF2.mean(numeric_only=True)\n",
    "BasicMatDF2"
   ]
  },
  {
   "cell_type": "code",
   "execution_count": null,
   "metadata": {},
   "outputs": [],
   "source": [
    "BasicMatDF2.to_excel(\"BasicMatDF.xlsx\",\n",
    "             sheet_name='BasicMat') "
   ]
  },
  {
   "cell_type": "code",
   "execution_count": null,
   "metadata": {},
   "outputs": [],
   "source": [
    "HCareDF2 = pd.merge(HCareDF, New, on=[\"ticker\"], how=\"outer\").dropna()\n",
    "HCareDF2.drop_duplicates(subset=\"assets\", keep='first')\n",
    "HCareDF2 = HCareDF2.loc[:,~HCareDF2.columns.duplicated()]\n",
    "HCareDF2 = HCareDF2.drop_duplicates()\n",
    "HCareDF2.set_index('ticker', inplace=True)\n",
    "HCareDF2.loc['Mean'] = HCareDF2.mean(numeric_only=True)\n",
    "HCareDF2"
   ]
  },
  {
   "cell_type": "code",
   "execution_count": null,
   "metadata": {},
   "outputs": [],
   "source": [
    "HCareDF2.to_excel(\"HCareDF.xlsx\",\n",
    "             sheet_name='HCareDF') "
   ]
  },
  {
   "cell_type": "code",
   "execution_count": null,
   "metadata": {},
   "outputs": [],
   "source": [
    "\n",
    "cwd = os.path.abspath('') \n",
    "files = os.listdir(cwd)"
   ]
  },
  {
   "cell_type": "code",
   "execution_count": null,
   "metadata": {
    "scrolled": true
   },
   "outputs": [],
   "source": [
    "cwd"
   ]
  },
  {
   "cell_type": "code",
   "execution_count": null,
   "metadata": {
    "scrolled": true
   },
   "outputs": [],
   "source": [
    "files"
   ]
  },
  {
   "cell_type": "code",
   "execution_count": null,
   "metadata": {},
   "outputs": [],
   "source": [
    "#Make a master file. \n",
    "from pandas import ExcelWriter\n",
    "import glob\n",
    "import os\n",
    "import pandas as pd\n",
    "writer = ExcelWriter(\"MasterData.xlsx\")\n",
    "\n",
    "for filename in glob.glob(\"*.xlsx\"):\n",
    "    excel_file = pd.ExcelFile(filename)\n",
    "    (_, f_name) = os.path.split(filename)\n",
    "    (f_short_name, _) = os.path.splitext(f_name)\n",
    "    for sheet_name in excel_file.sheet_names:\n",
    "        df_excel = pd.read_excel(filename, sheet_name=sheet_name)\n",
    "        df_excel.to_excel(writer, sheet_name, index=False)\n",
    "\n",
    "writer.save()"
   ]
  },
  {
   "cell_type": "code",
   "execution_count": null,
   "metadata": {},
   "outputs": [],
   "source": [
    "#Cant remember what this for?\n",
    "UtilitiesDF3 = pd.concat([UtilitiesDF, df4], axis=1).dropna()\n",
    "UtilitiesDF3.set_index('ticker', inplace=True)\n",
    "UtilitiesDF3"
   ]
  },
  {
   "cell_type": "code",
   "execution_count": null,
   "metadata": {},
   "outputs": [],
   "source": [
    "\n",
    "EnergyDF3 = pd.concat([EnergyDF, df4], axis=1).dropna()\n",
    "EnergyDF3.set_index('ticker', inplace=True)\n",
    "EnergyDF3"
   ]
  },
  {
   "cell_type": "code",
   "execution_count": null,
   "metadata": {},
   "outputs": [],
   "source": [
    "RealEstDF3 = pd.concat([RealEstDF, df4], axis=1).dropna()\n",
    "RealEstDF3.set_index('ticker', inplace=True)\n",
    "RealEstDF3"
   ]
  },
  {
   "cell_type": "code",
   "execution_count": null,
   "metadata": {},
   "outputs": [],
   "source": [
    "IndustDF3 = pd.concat([IndustDF, df4], axis=1).dropna()\n",
    "IndustDF3.set_index('ticker', inplace=True)\n",
    "IndustDF3"
   ]
  },
  {
   "cell_type": "code",
   "execution_count": null,
   "metadata": {},
   "outputs": [],
   "source": [
    "ComDefDF3 = pd.concat([ComDefDF, df4], axis=1).dropna()\n",
    "ComDefDF3.set_index('ticker', inplace=True)\n",
    "ComDefDF3"
   ]
  },
  {
   "cell_type": "code",
   "execution_count": null,
   "metadata": {},
   "outputs": [],
   "source": [
    "TechDF3 = pd.concat([TechDF, df4], axis=1).dropna()\n",
    "TechDF3.set_index('ticker', inplace=True)\n",
    "TechDF3"
   ]
  },
  {
   "cell_type": "code",
   "execution_count": null,
   "metadata": {},
   "outputs": [],
   "source": [
    "ConCycDF3 = pd.concat([ConCycDF, df4], axis=1).dropna()\n",
    "ConCycDF3.set_index('ticker', inplace=True)\n",
    "ConCycDF3"
   ]
  },
  {
   "cell_type": "code",
   "execution_count": null,
   "metadata": {},
   "outputs": [],
   "source": [
    "FinSerDF3 = pd.concat([FinSerDF, df4], axis=1).dropna()\n",
    "FinSerDF3.set_index('ticker', inplace=True)\n",
    "FinSerDF3"
   ]
  },
  {
   "cell_type": "code",
   "execution_count": null,
   "metadata": {},
   "outputs": [],
   "source": [
    "BasicMatDF3 = pd.concat([BasicMatDF, df4], axis=1).dropna()\n",
    "BasicMatDF3.set_index('ticker', inplace=True)\n",
    "BasicMatDF3"
   ]
  },
  {
   "cell_type": "code",
   "execution_count": null,
   "metadata": {},
   "outputs": [],
   "source": [
    "HCareDF3 = pd.concat([HCareDF, df4], axis=1).dropna()\n",
    "HCareDF3.set_index('ticker', inplace=True)\n",
    "HCareDF3"
   ]
  },
  {
   "cell_type": "code",
   "execution_count": null,
   "metadata": {},
   "outputs": [],
   "source": [
    "#Now all the Dataframe have all the data in them."
   ]
  },
  {
   "cell_type": "code",
   "execution_count": null,
   "metadata": {},
   "outputs": [],
   "source": []
  },
  {
   "cell_type": "code",
   "execution_count": null,
   "metadata": {},
   "outputs": [],
   "source": []
  }
 ],
 "metadata": {
  "kernelspec": {
   "display_name": "Python 3",
   "language": "python",
   "name": "python3"
  },
  "language_info": {
   "codemirror_mode": {
    "name": "ipython",
    "version": 3
   },
   "file_extension": ".py",
   "mimetype": "text/x-python",
   "name": "python",
   "nbconvert_exporter": "python",
   "pygments_lexer": "ipython3",
   "version": "3.8.5"
  }
 },
 "nbformat": 4,
 "nbformat_minor": 4
}
